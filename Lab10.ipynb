{
  "nbformat": 4,
  "nbformat_minor": 0,
  "metadata": {
    "colab": {
      "name": "Lab10.ipynb",
      "provenance": [],
      "collapsed_sections": []
    },
    "kernelspec": {
      "name": "python3",
      "display_name": "Python 3"
    }
  },
  "cells": [
    {
      "cell_type": "code",
      "metadata": {
        "colab": {
          "base_uri": "https://localhost:8080/"
        },
        "id": "Vg4P6wpQKj56",
        "outputId": "c345d8df-2301-43a1-b4e3-4fdacfa803eb"
      },
      "source": [
        "def F(x, y):\n",
        "    return 1/(1 + x**3 * y) + 2*y\n",
        "\n",
        "a, b, c, h = 1.5, 2, 2.1, 0.05\n",
        "h1 = 2 * h\n",
        "x = [a+i*h for i in range(int((b-a) / h ) + 1)]\n",
        "y = []\n",
        "\n",
        "x1 = [a+i*h1 for i in range(int((b-a) / h1 ) + 1)]\n",
        "\n",
        "\n",
        "print(x)\n",
        "print(x1)\n",
        "print(y)"
      ],
      "execution_count": 2,
      "outputs": [
        {
          "output_type": "stream",
          "text": [
            "[1.5, 1.55, 1.6, 1.65, 1.7, 1.75, 1.8, 1.85, 1.9, 1.95, 2.0]\n",
            "[1.5, 1.6, 1.7, 1.8, 1.9, 2.0]\n",
            "[]\n"
          ],
          "name": "stdout"
        }
      ]
    },
    {
      "cell_type": "code",
      "metadata": {
        "colab": {
          "base_uri": "https://localhost:8080/"
        },
        "id": "HhB0yR4vS5-M",
        "outputId": "9b5d343f-46b7-4ca2-a7dd-125047678230"
      },
      "source": [
        "#метод Эйлера\n",
        "y = [c]\n",
        "for i in range(int((b-a) / h )):\n",
        "    y.append(y[i] + h * F(x[i], y[i]))\n",
        "print(*y, sep = \"\\n\")\n",
        "\n",
        "print()\n",
        "\n",
        "y = [c]\n",
        "for i in range(int((b-a) / h1 )):\n",
        "    y.append(y[i] + h1 * F(x1[i], y[i]))\n",
        "print(*y, sep = \"\\n\")"
      ],
      "execution_count": 3,
      "outputs": [
        {
          "output_type": "stream",
          "text": [
            "2.1\n",
            "2.3161823802163832\n",
            "2.55299532970613\n",
            "2.812658980634421\n",
            "3.097591961628383\n",
            "3.410434062783799\n",
            "3.7540711266800106\n",
            "4.131662242217844\n",
            "4.546669399787768\n",
            "5.002889829264666\n",
            "5.504491292738239\n",
            "\n",
            "2.1\n",
            "2.532364760432767\n",
            "3.0476308027931913\n",
            "3.6634175240827322\n",
            "4.400572290780058\n",
            "5.283893570451655\n"
          ],
          "name": "stdout"
        }
      ]
    },
    {
      "cell_type": "code",
      "metadata": {
        "colab": {
          "base_uri": "https://localhost:8080/"
        },
        "id": "vzEJAAXVO9w8",
        "outputId": "224b15af-6044-44ac-85d6-b6f4392463c6"
      },
      "source": [
        "#метод Эйлера с пересчетом\n",
        "y = [c]\n",
        "for i in range(int((b-a) / h )):\n",
        "    y.append(y[i] + h / 2 * ( F(x[i], y[i]) + F(x[i+1], y[i] + h * F(x[i], y[i])) ))\n",
        "print(*y, sep = \"\\n\")\n",
        "\n",
        "print()\n",
        "\n",
        "y = [c]\n",
        "for i in range(int((b-a) / h1 )):\n",
        "    y.append(y[i] + h1 / 2 * ( F(x1[i], y[i]) + F(x1[i+1], y[i] + h1 * F(x1[i], y[i])) ))\n",
        "print(*y, sep = \"\\n\")"
      ],
      "execution_count": 4,
      "outputs": [
        {
          "output_type": "stream",
          "text": [
            "2.1\n",
            "2.3264976648530653\n",
            "2.5757989130277035\n",
            "2.850457187875741\n",
            "3.1532695805679825\n",
            "3.487305495909716\n",
            "3.855938226286608\n",
            "4.262879604480665\n",
            "4.712217996942434\n",
            "5.208459972318377\n",
            "5.756576041992879\n",
            "\n",
            "2.1\n",
            "2.5738154013965957\n",
            "3.1483362704859337\n",
            "3.8467811652808255\n",
            "4.697162813577543\n",
            "5.733429093397934\n"
          ],
          "name": "stdout"
        }
      ]
    },
    {
      "cell_type": "code",
      "metadata": {
        "colab": {
          "base_uri": "https://localhost:8080/"
        },
        "id": "V1-OVaROUdYT",
        "outputId": "a8ecb416-48e5-4067-84f8-d883b41ffd84"
      },
      "source": [
        "#метод Рунге-Кутта\n",
        "y = [c]\n",
        "for i in range(int((b-a) / h )):\n",
        "    k0 = h * F(x[i], y[i])\n",
        "    k1 = h * F(x[i] + h / 2, y[i] + k0 / 2)\n",
        "    k2 = h * F(x[i] + h / 2, y[i] + k1 / 2) \n",
        "    k3 = h * F(x[i] + h, y[i] + k2)\n",
        "    y.append(y[i] + 1/6 * (k0 + 2 * k1 + 2 * k2 + k3))\n",
        "print(*y, sep = \"\\n\")\n",
        "example = y[:]\n",
        "\n",
        "print()\n",
        "\n",
        "y = [c]\n",
        "for i in range(int((b-a) / h1 )):\n",
        "    k0 = h1 * F(x1[i], y[i])\n",
        "    k1 = h1 * F(x1[i] + h1 / 2, y[i] + k0 / 2)\n",
        "    k2 = h1 * F(x1[i] + h1 / 2, y[i] + k1 / 2) \n",
        "    k3 = h1 * F(x1[i] + h1, y[i] + k2)\n",
        "    y.append(y[i] + 1/6 * (k0 + 2 * k1 + 2 * k2 + k3))\n",
        "print(*y, sep = \"\\n\")\n",
        "\n"
      ],
      "execution_count": 5,
      "outputs": [
        {
          "output_type": "stream",
          "text": [
            "2.1\n",
            "2.3268236499773876\n",
            "2.5765281017034747\n",
            "2.851678414820604\n",
            "3.155084930274299\n",
            "3.489832181613269\n",
            "3.8593107315950994\n",
            "4.267252111521124\n",
            "4.717767131169717\n",
            "5.215387900161621\n",
            "5.7651139635063835\n",
            "\n",
            "2.1\n",
            "2.576523651562266\n",
            "3.1550736029935407\n",
            "3.8592893302123814\n",
            "4.717731467929418\n",
            "5.7650585639550025\n"
          ],
          "name": "stdout"
        }
      ]
    },
    {
      "cell_type": "code",
      "metadata": {
        "colab": {
          "base_uri": "https://localhost:8080/"
        },
        "id": "veN9A-8FV2d5",
        "outputId": "d2aab839-ef8d-48b4-d127-88100126f508"
      },
      "source": [
        "#Адамса – Башфорта четвертого порядка\n",
        "y = example[:]\n",
        "for i in range(3, int((b-a) / h ) ):\n",
        "    y[i+1] = y[i] + h / 24 * (55 * F(x[i], y[i]) - 59 * F(x[i-1], y[i-1]) + 37 * F(x[i-2], y[i-2]) - 9 * F(x[i-3], y[i-3]))\n",
        "print(*y, sep = \"\\n\")\n"
      ],
      "execution_count": 6,
      "outputs": [
        {
          "output_type": "stream",
          "text": [
            "2.1\n",
            "2.3268236499773876\n",
            "2.5765281017034747\n",
            "2.851678414820604\n",
            "3.1550756117354855\n",
            "3.4898104564063384\n",
            "3.8592750306024963\n",
            "4.267199764906062\n",
            "4.71769501068011\n",
            "5.215292562706281\n",
            "5.764991446810297\n"
          ],
          "name": "stdout"
        }
      ]
    },
    {
      "cell_type": "code",
      "metadata": {
        "colab": {
          "base_uri": "https://localhost:8080/"
        },
        "id": "na-E68npbI2I",
        "outputId": "0480bfd9-353b-41e7-bf65-df4ceb64875c"
      },
      "source": [
        "#метод прогноза и коррекции\n",
        "y = example[:]\n",
        "for i in range(3, int((b-a) / h )):\n",
        "    y[i+1] = y[i] + h / 24 * (55 * F(x[i], y[i]) - 59 * F(x[i-1], y[i-1]) + 37 * F(x[i-2], y[i-2]) - 9 * F(x[i-3], y[i-3]))\n",
        "    y[i+1] = y[i] + h / 24 * (9* F(x[i+1], y[i+1]) + 19 * F(x[i], y[i]) - 5 * F(x[i-1], y[i-1]) + F(x[i-2], y[i-2]))\n",
        "print(*y, sep = \"\\n\")"
      ],
      "execution_count": 7,
      "outputs": [
        {
          "output_type": "stream",
          "text": [
            "2.1\n",
            "2.3268236499773876\n",
            "2.5765281017034747\n",
            "2.851678414820604\n",
            "3.155085570656784\n",
            "3.4898336102535152\n",
            "3.8593131020970417\n",
            "4.267255605940953\n",
            "4.717771958778031\n",
            "5.215394301782618\n",
            "5.765122216000995\n"
          ],
          "name": "stdout"
        }
      ]
    }
  ]
}